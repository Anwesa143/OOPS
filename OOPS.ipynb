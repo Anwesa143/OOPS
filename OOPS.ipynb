{
  "nbformat": 4,
  "nbformat_minor": 0,
  "metadata": {
    "colab": {
      "provenance": []
    },
    "kernelspec": {
      "name": "python3",
      "display_name": "Python 3"
    },
    "language_info": {
      "name": "python"
    }
  },
  "cells": [
    {
      "cell_type": "markdown",
      "source": [
        "QUESTIONS"
      ],
      "metadata": {
        "id": "g2ycMH35XcRm"
      }
    },
    {
      "cell_type": "markdown",
      "source": [
        "1.What is Object-Oriented Programming (OOP)?\n",
        "- Object-oriented programming (OOP) is a computer programming model that organizes software design around data, or objects, rather than functions and logic. An object can be defined as a data field that has unique attributes and behavior.\n",
        "\n",
        "2.What is a class in OOP?\n",
        "- In Object-Oriented Programming (OOP), a class is a user-defined data type that serves as a blueprint for creating objects. It defines the structure (data members) and behavior (member functions or methods) that objects of that class will have. Think of it as a template that specifies what an object will be like.\n",
        "\n",
        "3.What is an object in OOP?\n",
        "- In Object-Oriented Programming (OOP), an object is a fundamental unit that represents a real-world entity or concept. It's an instance of a class, containing both data (attributes) and code (methods) that define its state and behavior. Objects interact with each other through methods, enabling them to manipulate their own data and respond to other objects.\n",
        "\n",
        "4.What is the difference between abstraction and encapsulation?\n",
        "- Abstraction focuses on hiding complex implementation details and showing only the essential features to the user, simplifying interactions. Encapsulation bundles data and methods within a single unit, like a class, and controls access to protect the data. In essence, abstraction simplifies the user's view, while encapsulation ensures data is well-organized and secure.\n",
        "\n",
        "5.What are dunder methods in Python?\n",
        "- Dunder methods, also known as magic methods, are special methods in Python that begin and end with double underscores (e.g., __init__, __str__, __len__). They provide a way to define how objects of a class should behave with built-in operators and functions. These methods enable operator overloading, allowing custom classes to support operations like addition, comparison, and indexing.Dunder here means \"Double Under (Underscores).\n",
        "\n",
        "6.Explain the concept of inheritance in OOP?\n",
        "- In Object-Oriented Programming (OOP), inheritance is a mechanism that allows a class (the child or subclass) to inherit properties and methods from another class (the parent or superclass). This enables code reusability and a hierarchical organization of classes, fostering a more structured and modular design.\n",
        "\n",
        "7.What is polymorphism in OOP?\n",
        "- In Object-Oriented Programming (OOP), polymorphism allows objects of different classes to be treated as objects of a common superclass, meaning they can have the same method name but different implementations. This enables code reuse and flexibility by allowing multiple classes to respond to a common method call in distinct ways. Polymorphism is a core concept in OOP, alongside inheritance and encapsulation.\n",
        "\n",
        "8.How is encapsulation achieved in Python?\n",
        "-  Encapsulation in Python is achieved through conventions and programming practices, primarily using access modifiers and naming conventions, rather than enforced mechanisms like in some other languages. It bundles data and methods that operate on that data within a class, restricting direct access to some of the object's components.\n",
        "\n",
        "9.What is a constructor in Python?\n",
        "- A constructor in Python is a special method called when an object is created. Its purpose is to assign values to the data members within the class when an object is initialized. In this article, we will learn what a Python constructor is, its types, and the rules for defining constructors in Python.\n",
        "\n",
        "10.What are class and static methods in Python?\n",
        "- In Python, class and static methods are special types of methods that are bound to a class rather than an instance of a class. They are defined using decorators @classmethod and @staticmethod respectively.\n",
        "\n",
        "11.What is method overloading in Python?\n",
        "- Method overloading in Python refers to the possibility of defining multiple methods with the same name within a class, as long as their signatures (number or type of arguments) are different.\n",
        "\n",
        "12.What is method overriding in OOP?\n",
        "- Method overriding in object-oriented programming (OOP) is a mechanism where a subclass provides a specific implementation for a method that is already defined in its superclass.\n",
        "\n",
        "13.What is a property decorator in Python?\n",
        "- In Python, a property decorator is a built-in feature that allows methods to be accessed like attributes. It provides a way to encapsulate the logic for getting, setting, and deleting an attribute within a class, without requiring the user to call explicit getter and setter methods. This mechanism provides a clean and Pythonic way to manage attributes, offering better control and flexibility.\n",
        "\n",
        "14.Why is polymorphism important in OOP?\n",
        "- Polymorphism is crucial in Object-Oriented Programming (OOP) because it enables code reuse, flexibility, and extensibility. It allows objects of different classes to be treated as objects of a common type, simplifying code and making it easier to adapt to new situations.\n",
        "\n",
        "15.What is an abstract class in Python?\n",
        "- In Python, an abstract class serves as a blueprint for other classes, defining methods that subclasses must implement. It cannot be instantiated directly and is created using the abc module. Abstract classes can contain abstract methods, which are declared but lack implementation, and concrete methods, which have full implementations. Subclasses are required to provide implementations for all abstract methods. If a subclass fails to implement an abstract method, it also becomes an abstract class.\n",
        "\n",
        "16.What are the advantages of OOP?\n",
        "- Object-oriented programming (OOP) offers numerous advantages that make it a popular choice for software development. These benefits include improved code organization, reusability, and maintainability, as well as enhanced security and scalability. OOP promotes a modular and structured approach to problem-solving, making it easier to debug, modify, and extend software.\n",
        "\n",
        "17.What is the difference between a class variable and an instance variable?\n",
        "- Class Variable: It is basically a static variable that can be declared anywhere at class level with static. Across different objects, these variables can have only one value. These variables are not tied to any particular object of the class, therefore, can share across all objects of the class.Instance Variable: It is basically a class variable without a static modifier and is usually shared by all class instances. Across different objects, these variables can have different values. They are tied to a particular object instance of the class, therefore, the contents of an instance variable are totally independent of one object instance to others.\n",
        "\n",
        "18.What is multiple inheritance in Python?\n",
        "- Multiple inheritance in Python is a feature that allows a class to inherit attributes and methods from more than one parent class. This enables a class to combine functionalities from different sources, promoting code reuse and flexibility.\n",
        "\n",
        "19.Explain the purpose of ‘’__str__’ and ‘__repr__’ ‘ methods in Python.\n",
        "- __str__(self): This method is intended to return a human-readable, informal string representation of an object. It is called by the built-in str() function and implicitly when using the print() function. The goal of __str__ is to provide a string that is easily understood by end-users._repr__(self): This method is intended to return a more technical, unambiguous string representation of an object. It is called by the built-in repr() function and is often used for debugging and logging purposes. Ideally, the string returned by __repr__ should be a valid Python expression that can be used to recreate the object. If __str__ is not defined, Python will fall back to using __repr__ when str() or print() is called.\n",
        "\n",
        "20.What is the significance of the ‘super()’ function in Python?\n",
        "- The super() function in Python is used to call methods from a parent class in a subclass. It provides a way to access and utilize the functionality of the parent class, promoting code reuse and maintainability. The super() function is particularly useful in scenarios involving inheritance, where a subclass inherits attributes and methods from its parent class.\n",
        "\n",
        "21.What is the significance of the __del__ method in Python?\n",
        "- The __del__ method in Python, also known as a destructor, is called when an object is about to be garbage collected. Its primary significance lies in providing a mechanism to perform cleanup actions before an object is removed from memory. These actions can include releasing external resources, closing files, or disconnecting from network connections.\n",
        "\n",
        "22.What is the difference between @staticmethod and @classmethod in Python?\n",
        "- A class method takes cls as the first parameter while a static method needs no specific parameters.\n",
        "- A class method can access or modify the class state while a static method can't access or modify it.\n",
        "- In general, static methods know nothing about the class state. They are utility-type methods that take some parameters and work upon those parameters. On the other hand class methods must have class as a parameter.\n",
        "- We use @classmethod decorator in python to create a class method and we use @staticmethod decorator to create a static method in python.\n",
        "\n",
        "23.How does polymorphism work in Python with inheritance?\n",
        "- Polymorphism, meaning \"many forms,\" enables objects of different classes to respond to the same method call in their own specific ways. When combined with inheritance in Python, polymorphism allows a child class to redefine a method inherited from its parent class, a process known as method overriding. This mechanism ensures that the correct version of a method is called based on the object's actual type, even when referred to through a parent class reference.\n",
        "\n",
        "24.What is method chaining in Python OOP+?\n",
        "- Method chaining in Python is a programming technique used in object-oriented programming where multiple methods are called sequentially on the same object in a single statement. It enhances code readability and conciseness by eliminating the need for intermediate variables.\n",
        "\n",
        "25.What is the purpose of the __call__ method in Python?\n",
        "- The __call__ method in Python enables instances of a class to be called like regular functions. When a class defines the __call__ method, its instances become callable objects. This means that you can apply the function call syntax () directly to an instance of the class, triggering the execution of the code within the __call__ method.\n",
        "\n",
        "\n"
      ],
      "metadata": {
        "id": "YAbFQV6wXkvx"
      }
    },
    {
      "cell_type": "markdown",
      "source": [
        "PRACTICAL QUESTIONS"
      ],
      "metadata": {
        "id": "gWK5-B5HE4V2"
      }
    },
    {
      "cell_type": "markdown",
      "source": [
        "1.Create a parent class Animal with a method speak() that prints a generic message. Create a child class Dog\n",
        "that overrides the speak() method to print \"Bark!\"."
      ],
      "metadata": {
        "id": "iZ_VqT1bE9ze"
      }
    },
    {
      "cell_type": "code",
      "source": [
        "# Parent class\n",
        "class Animal:\n",
        "    def speak(self):\n",
        "        print(\"The animal makes a sound.\")\n",
        "\n",
        "# Child class\n",
        "class Dog(Animal):\n",
        "    def speak(self):\n",
        "        print(\"Bark!\")\n",
        "\n",
        "# Example usage\n",
        "generic_animal = Animal()\n",
        "generic_animal.speak()\n",
        "dog = Dog()\n",
        "dog.speak()\n"
      ],
      "metadata": {
        "colab": {
          "base_uri": "https://localhost:8080/"
        },
        "id": "tVqqyjtFFAMd",
        "outputId": "a54931d2-b58f-4ca5-c27d-0f6197381ea6"
      },
      "execution_count": null,
      "outputs": [
        {
          "output_type": "stream",
          "name": "stdout",
          "text": [
            "The animal makes a sound.\n",
            "Bark!\n"
          ]
        }
      ]
    },
    {
      "cell_type": "markdown",
      "source": [
        "3.Implement a multi-level inheritance scenario where a class Vehicle has an attribute type. Derive a class Car\n",
        "and further derive a class ElectricCar that adds a battery attribute."
      ],
      "metadata": {
        "id": "qtid30EDJx54"
      }
    },
    {
      "cell_type": "code",
      "source": [
        "# Base class\n",
        "class Vehicle:\n",
        "    def __init__(self, vehicle_type):\n",
        "        self.type = vehicle_type\n",
        "\n",
        "# Derived class from Vehicle\n",
        "class Car(Vehicle):\n",
        "    def __init__(self, vehicle_type, brand):\n",
        "        super().__init__(vehicle_type)\n",
        "        self.brand = brand\n",
        "\n",
        "# Further derived class from Car\n",
        "class ElectricCar(Car):\n",
        "    def __init__(self, vehicle_type, brand, battery_capacity):\n",
        "        super().__init__(vehicle_type, brand)\n",
        "        self.battery = battery_capacity\n",
        "\n",
        "    def display_info(self):\n",
        "        print(f\"Type: {self.type}\")\n",
        "        print(f\"Brand: {self.brand}\")\n",
        "        print(f\"Battery Capacity: {self.battery} kWh\")\n",
        "\n",
        "\n",
        "tesla = ElectricCar(\"Electric\", \"Tesla\", 75)\n",
        "tesla.display_info()\n"
      ],
      "metadata": {
        "colab": {
          "base_uri": "https://localhost:8080/"
        },
        "id": "0TKuDwtkJ037",
        "outputId": "3be55068-8857-4867-97de-e7fb2971bee8"
      },
      "execution_count": null,
      "outputs": [
        {
          "output_type": "stream",
          "name": "stdout",
          "text": [
            "Type: Electric\n",
            "Brand: Tesla\n",
            "Battery Capacity: 75 kWh\n"
          ]
        }
      ]
    },
    {
      "cell_type": "markdown",
      "source": [
        "4.Demonstrate polymorphism by creating a base class Bird with a method fly(). Create two derived classes\n",
        "Sparrow and Penguin that override the fly() method.\n"
      ],
      "metadata": {
        "id": "CP7GGT4vLYkr"
      }
    },
    {
      "cell_type": "code",
      "source": [
        "# Base class\n",
        "class Bird:\n",
        "    def fly(self):\n",
        "        print(\"Some bird is flying.\")\n",
        "\n",
        "# Derived class 1\n",
        "class Sparrow(Bird):\n",
        "    def fly(self):\n",
        "        print(\"Sparrow can fly high in the sky.\")\n",
        "\n",
        "# Derived class 2\n",
        "class Penguin(Bird):\n",
        "    def fly(self):\n",
        "        print(\"Penguins cannot fly, they swim instead.\")\n",
        "\n",
        "# Polymorphism in action\n",
        "def bird_flight(bird):\n",
        "    bird.fly()\n",
        "\n",
        "sparrow = Sparrow()\n",
        "penguin = Penguin()\n",
        "\n",
        "bird_flight(sparrow)  # Output: Sparrow can fly high in the sky.\n",
        "bird_flight(penguin)  # Output: Penguins cannot fly, they swim instead.\n"
      ],
      "metadata": {
        "colab": {
          "base_uri": "https://localhost:8080/"
        },
        "id": "qQ7TVHLtLhFp",
        "outputId": "adc67f6b-5a18-4788-afd2-55a86f28d338"
      },
      "execution_count": null,
      "outputs": [
        {
          "output_type": "stream",
          "name": "stdout",
          "text": [
            "Sparrow can fly high in the sky.\n",
            "Penguins cannot fly, they swim instead.\n"
          ]
        }
      ]
    },
    {
      "cell_type": "markdown",
      "source": [
        "5.Write a program to demonstrate encapsulation by creating a class BankAccount with private attributes\n",
        "balance and methods to deposit, withdraw, and check balance."
      ],
      "metadata": {
        "id": "uO3nFCJULvUc"
      }
    },
    {
      "cell_type": "code",
      "source": [
        "class BankAccount:\n",
        "    def __init__(self, initial_balance=0):\n",
        "        self.__balance = initial_balance  # Private attribute\n",
        "\n",
        "    # Method to deposit money\n",
        "    def deposit(self, amount):\n",
        "        if amount > 0:\n",
        "            self.__balance += amount\n",
        "            print(f\"Deposited: ${amount}\")\n",
        "        else:\n",
        "            print(\"Deposit amount must be positive.\")\n",
        "\n",
        "    # Method to withdraw money\n",
        "    def withdraw(self, amount):\n",
        "        if amount <= self.__balance:\n",
        "            self.__balance -= amount\n",
        "            print(f\"Withdrawn: ${amount}\")\n",
        "        else:\n",
        "            print(\"Insufficient balance.\")\n",
        "\n",
        "    # Method to check balance\n",
        "    def get_balance(self):\n",
        "        return self.__balance\n",
        "\n",
        "# Example usage\n",
        "account = BankAccount(100)\n",
        "account.deposit(50)\n",
        "account.withdraw(30)\n",
        "print(\"Current Balance:\", account.get_balance())\n",
        "\n"
      ],
      "metadata": {
        "colab": {
          "base_uri": "https://localhost:8080/"
        },
        "id": "2PvhCrCJL1Wo",
        "outputId": "8db4d72d-10b2-4b37-f4de-892602e7bd3d"
      },
      "execution_count": null,
      "outputs": [
        {
          "output_type": "stream",
          "name": "stdout",
          "text": [
            "Deposited: $50\n",
            "Withdrawn: $30\n",
            "Current Balance: 120\n"
          ]
        }
      ]
    },
    {
      "cell_type": "markdown",
      "source": [
        "6.Demonstrate runtime polymorphism using a method play() in a base class Instrument. Derive classes Guitar\n",
        "and Piano that implement their own version of play()."
      ],
      "metadata": {
        "id": "HD5dFJtFMsbH"
      }
    },
    {
      "cell_type": "code",
      "source": [
        "# Base class\n",
        "class Instrument:\n",
        "    def play(self):\n",
        "        print(\"Playing some instrument.\")\n",
        "\n",
        "# Derived class: Guitar\n",
        "class Guitar(Instrument):\n",
        "    def play(self):\n",
        "        print(\"Strumming the guitar.\")\n",
        "\n",
        "# Derived class: Piano\n",
        "class Piano(Instrument):\n",
        "    def play(self):\n",
        "        print(\"Playing the piano keys.\")\n",
        "\n",
        "# Function to demonstrate runtime polymorphism\n",
        "def start_playing(instrument):\n",
        "    instrument.play()\n",
        "\n",
        "# Example usage\n",
        "guitar = Guitar()\n",
        "piano = Piano()\n",
        "\n",
        "start_playing(guitar)\n",
        "start_playing(piano)\n"
      ],
      "metadata": {
        "colab": {
          "base_uri": "https://localhost:8080/"
        },
        "id": "Gk7oivg2MzoC",
        "outputId": "aed459ae-885f-44f3-cc57-65f59ab8cf66"
      },
      "execution_count": null,
      "outputs": [
        {
          "output_type": "stream",
          "name": "stdout",
          "text": [
            "Strumming the guitar.\n",
            "Playing the piano keys.\n"
          ]
        }
      ]
    },
    {
      "cell_type": "markdown",
      "source": [
        "7.Create a class MathOperations with a class method add_numbers() to add two numbers and a static\n",
        "method subtract_numbers() to subtract two numbers."
      ],
      "metadata": {
        "id": "N47xKqZASpO2"
      }
    },
    {
      "cell_type": "code",
      "source": [
        "class MathOperations:\n",
        "    @classmethod\n",
        "    def add_numbers(cls, a, b):\n",
        "        return a + b\n",
        "\n",
        "    @staticmethod\n",
        "    def subtract_numbers(a, b):\n",
        "        return a - b\n",
        "\n",
        "print(MathOperations.add_numbers(10, 5))\n",
        "print(MathOperations.subtract_numbers(10, 5))\n"
      ],
      "metadata": {
        "colab": {
          "base_uri": "https://localhost:8080/"
        },
        "id": "XHHQLB11S9cS",
        "outputId": "9ace370d-6b0c-4a37-97fd-19f1e064f126"
      },
      "execution_count": null,
      "outputs": [
        {
          "output_type": "stream",
          "name": "stdout",
          "text": [
            "15\n",
            "5\n"
          ]
        }
      ]
    },
    {
      "cell_type": "markdown",
      "source": [
        "8.Implement a class Person with a class method to count the total number of persons created."
      ],
      "metadata": {
        "id": "PKNnYuqnToGD"
      }
    },
    {
      "cell_type": "code",
      "source": [
        "class Person:\n",
        "    _person_count = 0  # Class variable to store the count\n",
        "\n",
        "    def __init__(self, name):\n",
        "        self.name = name\n",
        "        Person._person_count += 1\n",
        "\n",
        "    @classmethod\n",
        "    def get_person_count(cls):\n",
        "        return cls._person_count\n",
        "\n",
        "# Example usage:\n",
        "p1 = Person(\"Alice\")\n",
        "p2 = Person(\"Bob\")\n",
        "\n",
        "print(Person.get_person_count())\n"
      ],
      "metadata": {
        "colab": {
          "base_uri": "https://localhost:8080/"
        },
        "id": "6LPP29MbT3et",
        "outputId": "84c28b3b-abf5-4043-f257-fc48201ddb46"
      },
      "execution_count": null,
      "outputs": [
        {
          "output_type": "stream",
          "name": "stdout",
          "text": [
            "2\n"
          ]
        }
      ]
    },
    {
      "cell_type": "markdown",
      "source": [
        "9.Write a class Fraction with attributes numerator and denominator. Override the str method to display the\n",
        "fraction as \"numerator/denominator\"."
      ],
      "metadata": {
        "id": "RrimDIIDUIJ4"
      }
    },
    {
      "cell_type": "code",
      "source": [
        "class Fraction:\n",
        "    def __init__(self, numerator, denominator):\n",
        "        self.numerator = numerator\n",
        "        self.denominator = denominator\n",
        "\n",
        "    def __str__(self):\n",
        "        return f\"{self.numerator}/{self.denominator}\"\n",
        "\n",
        "f = Fraction(3, 4)\n",
        "print(f)\n"
      ],
      "metadata": {
        "colab": {
          "base_uri": "https://localhost:8080/"
        },
        "id": "zzWWj0-uUXrF",
        "outputId": "ce4c28db-09d6-43a5-f274-e1c93383f77e"
      },
      "execution_count": null,
      "outputs": [
        {
          "output_type": "stream",
          "name": "stdout",
          "text": [
            "3/4\n"
          ]
        }
      ]
    },
    {
      "cell_type": "markdown",
      "source": [
        "10.Demonstrate operator overloading by creating a class Vector and overriding the add method to add two\n",
        "vectors.\n",
        "\n",
        "\n"
      ],
      "metadata": {
        "id": "nRvfDQ2OUlox"
      }
    },
    {
      "cell_type": "code",
      "source": [
        "class Vector:\n",
        "    def __init__(self, x, y):\n",
        "        self.x = x\n",
        "        self.y = y\n",
        "\n",
        "    def __add__(self, other):\n",
        "        # Add corresponding components of two vectors\n",
        "        return Vector(self.x + other.x, self.y + other.y)\n",
        "\n",
        "    def __str__(self):\n",
        "        return f\"Vector({self.x}, {self.y})\"\n",
        "\n",
        "v1 = Vector(2, 3)\n",
        "v2 = Vector(4, 5)\n",
        "v3 = v1 + v2\n",
        "\n",
        "print(v3)\n"
      ],
      "metadata": {
        "colab": {
          "base_uri": "https://localhost:8080/"
        },
        "id": "gou0QrWoUupr",
        "outputId": "4419fe10-da3d-4751-da4d-0d7341f02721"
      },
      "execution_count": null,
      "outputs": [
        {
          "output_type": "stream",
          "name": "stdout",
          "text": [
            "Vector(6, 8)\n"
          ]
        }
      ]
    },
    {
      "cell_type": "markdown",
      "source": [
        "11.Create a class Person with attributes name and age. Add a method greet() that prints \"Hello, my name is\n",
        "{name} and I am {age} years old"
      ],
      "metadata": {
        "id": "SEdUWOXDVC0C"
      }
    },
    {
      "cell_type": "code",
      "source": [
        "class Person:\n",
        "    def __init__(self, name, age):\n",
        "        self.name = name\n",
        "        self.age = age\n",
        "\n",
        "    def greet(self):\n",
        "        print(f\"Hello, my name is {self.name} and I am {self.age} years old\")\n",
        "\n",
        "# Example usage:\n",
        "p = Person(\"Anwesa\", 27)\n",
        "p.greet()\n"
      ],
      "metadata": {
        "colab": {
          "base_uri": "https://localhost:8080/"
        },
        "id": "LlYgWV1yVLyR",
        "outputId": "9ecc5ee5-edbb-4080-c184-53d0988b3033"
      },
      "execution_count": null,
      "outputs": [
        {
          "output_type": "stream",
          "name": "stdout",
          "text": [
            "Hello, my name is Anwesa and I am 27 years old\n"
          ]
        }
      ]
    },
    {
      "cell_type": "markdown",
      "source": [
        "12.Implement a class Student with attributes name and grades. Create a method average_grade() to compute\n",
        "the average of the grades."
      ],
      "metadata": {
        "id": "ZnxbmVRNVonW"
      }
    },
    {
      "cell_type": "code",
      "source": [
        "class Student:\n",
        "    def __init__(self, name, grades):\n",
        "        self.name = name\n",
        "        self.grades = grades  # Expecting a list of numbers\n",
        "\n",
        "    def average_grade(self):\n",
        "        if not self.grades:\n",
        "            return 0\n",
        "        return sum(self.grades) / len(self.grades)\n",
        "\n",
        "# Example usage:\n",
        "s = Student(\"anwesa\", [85, 90, 78, 92])\n",
        "print(f\"{s.name}'s average grade is: {s.average_grade():.2f}\")\n",
        "\n"
      ],
      "metadata": {
        "colab": {
          "base_uri": "https://localhost:8080/"
        },
        "id": "ByBztgPVWNWF",
        "outputId": "f19c0af7-c48d-4adc-a9cc-fa2b7390cefc"
      },
      "execution_count": null,
      "outputs": [
        {
          "output_type": "stream",
          "name": "stdout",
          "text": [
            "anwesa's average grade is: 86.25\n"
          ]
        }
      ]
    },
    {
      "cell_type": "markdown",
      "source": [
        "13.Create a class Rectangle with methods set_dimensions() to set the dimensions and area() to calculate the\n",
        "area."
      ],
      "metadata": {
        "id": "SgE3prCuTCsl"
      }
    },
    {
      "cell_type": "code",
      "source": [
        "class Rectangle:\n",
        "    def __init__(self):\n",
        "        self.length = 0\n",
        "        self.width = 0\n",
        "\n",
        "    def set_dimensions(self, length, width):\n",
        "        \"\"\"Set the dimensions of the rectangle.\"\"\"\n",
        "        self.length = length\n",
        "        self.width = width\n",
        "\n",
        "    def area(self):\n",
        "        \"\"\"Calculate and return the area of the rectangle.\"\"\"\n",
        "        return self.length * self.width\n",
        "\n",
        "rect = Rectangle()\n",
        "rect.set_dimensions(5, 3)\n",
        "print(\"Area of the rectangle:\", rect.area())\n"
      ],
      "metadata": {
        "colab": {
          "base_uri": "https://localhost:8080/"
        },
        "id": "f0Zx4cwOTPSV",
        "outputId": "080b3f16-cec5-416f-fc31-774ddfb5f9bb"
      },
      "execution_count": null,
      "outputs": [
        {
          "output_type": "stream",
          "name": "stdout",
          "text": [
            "Area of the rectangle: 15\n"
          ]
        }
      ]
    },
    {
      "cell_type": "markdown",
      "source": [
        "14.Create a class Employee with a method calculate_salary() that computes the salary based on hours worked\n",
        "and hourly rate. Create a derived class Manager that adds a bonus to the salary"
      ],
      "metadata": {
        "id": "ncc7ueSpUFjy"
      }
    },
    {
      "cell_type": "code",
      "source": [
        "# Base class\n",
        "class Employee:\n",
        "    def __init__(self, hours_worked, hourly_rate):\n",
        "        self.hours_worked = hours_worked\n",
        "        self.hourly_rate = hourly_rate\n",
        "\n",
        "    def calculate_salary(self):\n",
        "        \"\"\"Calculate salary based on hours worked and hourly rate.\"\"\"\n",
        "        return self.hours_worked * self.hourly_rate\n",
        "\n",
        "# Derived class\n",
        "class Manager(Employee):\n",
        "    def __init__(self, hours_worked, hourly_rate, bonus):\n",
        "        super().__init__(hours_worked, hourly_rate)\n",
        "        self.bonus = bonus\n",
        "\n",
        "    def calculate_salary(self):\n",
        "        \"\"\"Calculate salary with bonus included.\"\"\"\n",
        "        base_salary = super().calculate_salary()\n",
        "        return base_salary + self.bonus\n",
        "\n",
        "# Example usage:\n",
        "emp = Employee(40, 20)\n",
        "print(\"Employee salary:\", emp.calculate_salary())\n",
        "\n",
        "mgr = Manager(40, 30, 500)\n",
        "print(\"Manager salary:\", mgr.calculate_salary())\n"
      ],
      "metadata": {
        "colab": {
          "base_uri": "https://localhost:8080/"
        },
        "id": "M7-8_WFbWGfo",
        "outputId": "313685cc-47ce-4474-a5e3-aa0296ae5967"
      },
      "execution_count": null,
      "outputs": [
        {
          "output_type": "stream",
          "name": "stdout",
          "text": [
            "Employee salary: 800\n",
            "Manager salary: 1700\n"
          ]
        }
      ]
    },
    {
      "cell_type": "markdown",
      "source": [
        "16.Create a class Animal with an abstract method sound(). Create two derived classes Cow and Sheep that\n",
        "implement the sound() method."
      ],
      "metadata": {
        "id": "Q2c5lsW9X3p2"
      }
    },
    {
      "cell_type": "code",
      "source": [
        "from abc import ABC, abstractmethod\n",
        "\n",
        "# Abstract base class\n",
        "class Animal(ABC):\n",
        "    @abstractmethod\n",
        "    def sound(self):\n",
        "        \"\"\"Abstract method to be implemented by all subclasses.\"\"\"\n",
        "        pass\n",
        "\n",
        "# Derived class: Cow\n",
        "class Cow(Animal):\n",
        "    def sound(self):\n",
        "        return \"Moo\"\n",
        "\n",
        "# Derived class: Sheep\n",
        "class Sheep(Animal):\n",
        "    def sound(self):\n",
        "        return \"Baa\"\n",
        "\n",
        "# Example usage:\n",
        "cow = Cow()\n",
        "print(\"Cow sound:\", cow.sound())\n",
        "\n",
        "sheep = Sheep()\n",
        "print(\"Sheep sound:\", sheep.sound())\n"
      ],
      "metadata": {
        "colab": {
          "base_uri": "https://localhost:8080/"
        },
        "id": "FlAn-p7JX-uL",
        "outputId": "65d28e74-6a9d-4291-b3e1-780666831c6d"
      },
      "execution_count": null,
      "outputs": [
        {
          "output_type": "stream",
          "name": "stdout",
          "text": [
            "Cow sound: Moo\n",
            "Sheep sound: Baa\n"
          ]
        }
      ]
    },
    {
      "cell_type": "markdown",
      "source": [
        "17.Create a class Book with attributes title, author, and year_published. Add a method get_book_info() that\n",
        "returns a formatted string with the book's details."
      ],
      "metadata": {
        "id": "Bo52BjXgYQjJ"
      }
    },
    {
      "cell_type": "code",
      "source": [
        "class Book:\n",
        "    def __init__(self, title, author, year_published):\n",
        "        self.title = title\n",
        "        self.author = author\n",
        "        self.year_published = year_published\n",
        "\n",
        "    def get_book_info(self):\n",
        "        \"\"\"Return a formatted string with the book's details.\"\"\"\n",
        "        return f\"'{self.title}' by {self.author}, published in {self.year_published}\"\n",
        "\n",
        "# Example usage:\n",
        "book = Book(\"Gitanjali\", \"RN Tagore\", 1913)\n",
        "print(book.get_book_info())\n"
      ],
      "metadata": {
        "colab": {
          "base_uri": "https://localhost:8080/"
        },
        "id": "kJr3dfz3Yeky",
        "outputId": "0d36727f-07fa-4aca-b05d-079544dcb6d9"
      },
      "execution_count": null,
      "outputs": [
        {
          "output_type": "stream",
          "name": "stdout",
          "text": [
            "'Gitanjali' by RN Tagore, published in 1913\n"
          ]
        }
      ]
    },
    {
      "cell_type": "markdown",
      "source": [
        "18.Create a class House with attributes address and price. Create a derived class Mansion that adds an\n",
        "attribute number_of_rooms"
      ],
      "metadata": {
        "id": "5hsmHamSYtUC"
      }
    },
    {
      "cell_type": "code",
      "source": [
        "# Base class\n",
        "class House:\n",
        "    def __init__(self, address, price):\n",
        "        self.address = address\n",
        "        self.price = price\n",
        "\n",
        "    def get_info(self):\n",
        "        \"\"\"Return a formatted string with house details.\"\"\"\n",
        "        return f\"Address: {self.address}, Price: ${self.price}\"\n",
        "\n",
        "# Derived class\n",
        "class Mansion(House):\n",
        "    def __init__(self, address, price, number_of_rooms):\n",
        "        super().__init__(address, price)\n",
        "        self.number_of_rooms = number_of_rooms\n",
        "\n",
        "    def get_info(self):\n",
        "        \"\"\"Return a formatted string with mansion details, including number of rooms.\"\"\"\n",
        "        return f\"{super().get_info()}, Number of rooms: {self.number_of_rooms}\"\n",
        "\n",
        "# Example usage:\n",
        "house = House(\"gargi mess\", 2500)\n",
        "print(house.get_info())\n",
        "\n",
        "mansion = Mansion(\"1 Royal Avenue\", 5000000, 15)\n",
        "print(mansion.get_info())\n"
      ],
      "metadata": {
        "colab": {
          "base_uri": "https://localhost:8080/"
        },
        "id": "hAqxl5elYx7V",
        "outputId": "55be1ba9-cbaf-4eba-9016-98e3b8e7fd6d"
      },
      "execution_count": null,
      "outputs": [
        {
          "output_type": "stream",
          "name": "stdout",
          "text": [
            "Address: gargi mess, Price: $2500\n",
            "Address: 1 Royal Avenue, Price: $5000000, Number of rooms: 15\n"
          ]
        }
      ]
    }
  ]
}